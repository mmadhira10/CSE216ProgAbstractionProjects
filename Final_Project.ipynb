{
  "nbformat": 4,
  "nbformat_minor": 0,
  "metadata": {
    "colab": {
      "name": "Final_Project.ipynb",
      "provenance": [],
      "collapsed_sections": [],
      "include_colab_link": true
    },
    "kernelspec": {
      "name": "python3",
      "display_name": "Python 3"
    },
    "language_info": {
      "name": "python"
    },
    "accelerator": "GPU",
    "widgets": {
      "application/vnd.jupyter.widget-state+json": {
        "18b6acd521054a3f95d89d3bb86728bd": {
          "model_module": "@jupyter-widgets/controls",
          "model_name": "HBoxModel",
          "state": {
            "_view_name": "HBoxView",
            "_dom_classes": [],
            "_model_name": "HBoxModel",
            "_view_module": "@jupyter-widgets/controls",
            "_model_module_version": "1.5.0",
            "_view_count": null,
            "_view_module_version": "1.5.0",
            "box_style": "",
            "layout": "IPY_MODEL_0666e3cfc33b44b6beb040a4748daaef",
            "_model_module": "@jupyter-widgets/controls",
            "children": [
              "IPY_MODEL_805604e3282c4e89aeefa9dd0005f32f",
              "IPY_MODEL_8e437966c9a64d1ab4d69f40857c1731"
            ]
          },
          "model_module_version": "1.5.0"
        },
        "0666e3cfc33b44b6beb040a4748daaef": {
          "model_module": "@jupyter-widgets/base",
          "model_name": "LayoutModel",
          "state": {
            "_view_name": "LayoutView",
            "grid_template_rows": null,
            "right": null,
            "justify_content": null,
            "_view_module": "@jupyter-widgets/base",
            "overflow": null,
            "_model_module_version": "1.2.0",
            "_view_count": null,
            "flex_flow": null,
            "width": null,
            "min_width": null,
            "border": null,
            "align_items": null,
            "bottom": null,
            "_model_module": "@jupyter-widgets/base",
            "top": null,
            "grid_column": null,
            "overflow_y": null,
            "overflow_x": null,
            "grid_auto_flow": null,
            "grid_area": null,
            "grid_template_columns": null,
            "flex": null,
            "_model_name": "LayoutModel",
            "justify_items": null,
            "grid_row": null,
            "max_height": null,
            "align_content": null,
            "visibility": null,
            "align_self": null,
            "height": null,
            "min_height": null,
            "padding": null,
            "grid_auto_rows": null,
            "grid_gap": null,
            "max_width": null,
            "order": null,
            "_view_module_version": "1.2.0",
            "grid_template_areas": null,
            "object_position": null,
            "object_fit": null,
            "grid_auto_columns": null,
            "margin": null,
            "display": null,
            "left": null
          },
          "model_module_version": "1.2.0"
        },
        "805604e3282c4e89aeefa9dd0005f32f": {
          "model_module": "@jupyter-widgets/controls",
          "model_name": "FloatProgressModel",
          "state": {
            "_view_name": "ProgressView",
            "style": "IPY_MODEL_81bd822f86b047cb9b56a41ce23cbca4",
            "_dom_classes": [],
            "description": "",
            "_model_name": "FloatProgressModel",
            "bar_style": "success",
            "max": 1,
            "_view_module": "@jupyter-widgets/controls",
            "_model_module_version": "1.5.0",
            "value": 1,
            "_view_count": null,
            "_view_module_version": "1.5.0",
            "orientation": "horizontal",
            "min": 0,
            "description_tooltip": null,
            "_model_module": "@jupyter-widgets/controls",
            "layout": "IPY_MODEL_0665b96aeb874e04b9ff97d704c2d645"
          },
          "model_module_version": "1.5.0"
        },
        "8e437966c9a64d1ab4d69f40857c1731": {
          "model_module": "@jupyter-widgets/controls",
          "model_name": "HTMLModel",
          "state": {
            "_view_name": "HTMLView",
            "style": "IPY_MODEL_7c0b8ec25cf64f408995f4c0a12b5fe3",
            "_dom_classes": [],
            "description": "",
            "_model_name": "HTMLModel",
            "placeholder": "​",
            "_view_module": "@jupyter-widgets/controls",
            "_model_module_version": "1.5.0",
            "value": " 131740031/? [00:03&lt;00:00, 41358307.32it/s]",
            "_view_count": null,
            "_view_module_version": "1.5.0",
            "description_tooltip": null,
            "_model_module": "@jupyter-widgets/controls",
            "layout": "IPY_MODEL_2e6554350c7046e7a46f2fe2f9c563a5"
          },
          "model_module_version": "1.5.0"
        },
        "81bd822f86b047cb9b56a41ce23cbca4": {
          "model_module": "@jupyter-widgets/controls",
          "model_name": "ProgressStyleModel",
          "state": {
            "_view_name": "StyleView",
            "_model_name": "ProgressStyleModel",
            "description_width": "initial",
            "_view_module": "@jupyter-widgets/base",
            "_model_module_version": "1.5.0",
            "_view_count": null,
            "_view_module_version": "1.2.0",
            "bar_color": null,
            "_model_module": "@jupyter-widgets/controls"
          },
          "model_module_version": "1.5.0"
        },
        "0665b96aeb874e04b9ff97d704c2d645": {
          "model_module": "@jupyter-widgets/base",
          "model_name": "LayoutModel",
          "state": {
            "_view_name": "LayoutView",
            "grid_template_rows": null,
            "right": null,
            "justify_content": null,
            "_view_module": "@jupyter-widgets/base",
            "overflow": null,
            "_model_module_version": "1.2.0",
            "_view_count": null,
            "flex_flow": null,
            "width": null,
            "min_width": null,
            "border": null,
            "align_items": null,
            "bottom": null,
            "_model_module": "@jupyter-widgets/base",
            "top": null,
            "grid_column": null,
            "overflow_y": null,
            "overflow_x": null,
            "grid_auto_flow": null,
            "grid_area": null,
            "grid_template_columns": null,
            "flex": null,
            "_model_name": "LayoutModel",
            "justify_items": null,
            "grid_row": null,
            "max_height": null,
            "align_content": null,
            "visibility": null,
            "align_self": null,
            "height": null,
            "min_height": null,
            "padding": null,
            "grid_auto_rows": null,
            "grid_gap": null,
            "max_width": null,
            "order": null,
            "_view_module_version": "1.2.0",
            "grid_template_areas": null,
            "object_position": null,
            "object_fit": null,
            "grid_auto_columns": null,
            "margin": null,
            "display": null,
            "left": null
          },
          "model_module_version": "1.2.0"
        },
        "7c0b8ec25cf64f408995f4c0a12b5fe3": {
          "model_module": "@jupyter-widgets/controls",
          "model_name": "DescriptionStyleModel",
          "state": {
            "_view_name": "StyleView",
            "_model_name": "DescriptionStyleModel",
            "description_width": "",
            "_view_module": "@jupyter-widgets/base",
            "_model_module_version": "1.5.0",
            "_view_count": null,
            "_view_module_version": "1.2.0",
            "_model_module": "@jupyter-widgets/controls"
          },
          "model_module_version": "1.5.0"
        },
        "2e6554350c7046e7a46f2fe2f9c563a5": {
          "model_module": "@jupyter-widgets/base",
          "model_name": "LayoutModel",
          "state": {
            "_view_name": "LayoutView",
            "grid_template_rows": null,
            "right": null,
            "justify_content": null,
            "_view_module": "@jupyter-widgets/base",
            "overflow": null,
            "_model_module_version": "1.2.0",
            "_view_count": null,
            "flex_flow": null,
            "width": null,
            "min_width": null,
            "border": null,
            "align_items": null,
            "bottom": null,
            "_model_module": "@jupyter-widgets/base",
            "top": null,
            "grid_column": null,
            "overflow_y": null,
            "overflow_x": null,
            "grid_auto_flow": null,
            "grid_area": null,
            "grid_template_columns": null,
            "flex": null,
            "_model_name": "LayoutModel",
            "justify_items": null,
            "grid_row": null,
            "max_height": null,
            "align_content": null,
            "visibility": null,
            "align_self": null,
            "height": null,
            "min_height": null,
            "padding": null,
            "grid_auto_rows": null,
            "grid_gap": null,
            "max_width": null,
            "order": null,
            "_view_module_version": "1.2.0",
            "grid_template_areas": null,
            "object_position": null,
            "object_fit": null,
            "grid_auto_columns": null,
            "margin": null,
            "display": null,
            "left": null
          },
          "model_module_version": "1.2.0"
        },
        "9ea6ff1fb741435abb22d371a0007189": {
          "model_module": "@jupyter-widgets/controls",
          "model_name": "HBoxModel",
          "state": {
            "_view_name": "HBoxView",
            "_dom_classes": [],
            "_model_name": "HBoxModel",
            "_view_module": "@jupyter-widgets/controls",
            "_model_module_version": "1.5.0",
            "_view_count": null,
            "_view_module_version": "1.5.0",
            "box_style": "",
            "layout": "IPY_MODEL_d98e2590fd474c18a36f9363728de6ef",
            "_model_module": "@jupyter-widgets/controls",
            "children": [
              "IPY_MODEL_5669ea7c08a14917bdf25ae424edecfc",
              "IPY_MODEL_7d913e003e55472e9082436b068bd30f"
            ]
          },
          "model_module_version": "1.5.0"
        },
        "d98e2590fd474c18a36f9363728de6ef": {
          "model_module": "@jupyter-widgets/base",
          "model_name": "LayoutModel",
          "state": {
            "_view_name": "LayoutView",
            "grid_template_rows": null,
            "right": null,
            "justify_content": null,
            "_view_module": "@jupyter-widgets/base",
            "overflow": null,
            "_model_module_version": "1.2.0",
            "_view_count": null,
            "flex_flow": null,
            "width": null,
            "min_width": null,
            "border": null,
            "align_items": null,
            "bottom": null,
            "_model_module": "@jupyter-widgets/base",
            "top": null,
            "grid_column": null,
            "overflow_y": null,
            "overflow_x": null,
            "grid_auto_flow": null,
            "grid_area": null,
            "grid_template_columns": null,
            "flex": null,
            "_model_name": "LayoutModel",
            "justify_items": null,
            "grid_row": null,
            "max_height": null,
            "align_content": null,
            "visibility": null,
            "align_self": null,
            "height": null,
            "min_height": null,
            "padding": null,
            "grid_auto_rows": null,
            "grid_gap": null,
            "max_width": null,
            "order": null,
            "_view_module_version": "1.2.0",
            "grid_template_areas": null,
            "object_position": null,
            "object_fit": null,
            "grid_auto_columns": null,
            "margin": null,
            "display": null,
            "left": null
          },
          "model_module_version": "1.2.0"
        },
        "5669ea7c08a14917bdf25ae424edecfc": {
          "model_module": "@jupyter-widgets/controls",
          "model_name": "FloatProgressModel",
          "state": {
            "_view_name": "ProgressView",
            "style": "IPY_MODEL_fc68867823814a2ab8a228135e3c132e",
            "_dom_classes": [],
            "description": "",
            "_model_name": "FloatProgressModel",
            "bar_style": "success",
            "max": 1,
            "_view_module": "@jupyter-widgets/controls",
            "_model_module_version": "1.5.0",
            "value": 1,
            "_view_count": null,
            "_view_module_version": "1.5.0",
            "orientation": "horizontal",
            "min": 0,
            "description_tooltip": null,
            "_model_module": "@jupyter-widgets/controls",
            "layout": "IPY_MODEL_37e92a7d12b44b6bae4df904c6c4f276"
          },
          "model_module_version": "1.5.0"
        },
        "7d913e003e55472e9082436b068bd30f": {
          "model_module": "@jupyter-widgets/controls",
          "model_name": "HTMLModel",
          "state": {
            "_view_name": "HTMLView",
            "style": "IPY_MODEL_8fb8c34139724bc885cb68f8346377a4",
            "_dom_classes": [],
            "description": "",
            "_model_name": "HTMLModel",
            "placeholder": "​",
            "_view_module": "@jupyter-widgets/controls",
            "_model_module_version": "1.5.0",
            "value": " 14028800/? [00:00&lt;00:00, 121424654.61it/s]",
            "_view_count": null,
            "_view_module_version": "1.5.0",
            "description_tooltip": null,
            "_model_module": "@jupyter-widgets/controls",
            "layout": "IPY_MODEL_68668f37fbc94fdcbace67c28c531d77"
          },
          "model_module_version": "1.5.0"
        },
        "fc68867823814a2ab8a228135e3c132e": {
          "model_module": "@jupyter-widgets/controls",
          "model_name": "ProgressStyleModel",
          "state": {
            "_view_name": "StyleView",
            "_model_name": "ProgressStyleModel",
            "description_width": "initial",
            "_view_module": "@jupyter-widgets/base",
            "_model_module_version": "1.5.0",
            "_view_count": null,
            "_view_module_version": "1.2.0",
            "bar_color": null,
            "_model_module": "@jupyter-widgets/controls"
          },
          "model_module_version": "1.5.0"
        },
        "37e92a7d12b44b6bae4df904c6c4f276": {
          "model_module": "@jupyter-widgets/base",
          "model_name": "LayoutModel",
          "state": {
            "_view_name": "LayoutView",
            "grid_template_rows": null,
            "right": null,
            "justify_content": null,
            "_view_module": "@jupyter-widgets/base",
            "overflow": null,
            "_model_module_version": "1.2.0",
            "_view_count": null,
            "flex_flow": null,
            "width": null,
            "min_width": null,
            "border": null,
            "align_items": null,
            "bottom": null,
            "_model_module": "@jupyter-widgets/base",
            "top": null,
            "grid_column": null,
            "overflow_y": null,
            "overflow_x": null,
            "grid_auto_flow": null,
            "grid_area": null,
            "grid_template_columns": null,
            "flex": null,
            "_model_name": "LayoutModel",
            "justify_items": null,
            "grid_row": null,
            "max_height": null,
            "align_content": null,
            "visibility": null,
            "align_self": null,
            "height": null,
            "min_height": null,
            "padding": null,
            "grid_auto_rows": null,
            "grid_gap": null,
            "max_width": null,
            "order": null,
            "_view_module_version": "1.2.0",
            "grid_template_areas": null,
            "object_position": null,
            "object_fit": null,
            "grid_auto_columns": null,
            "margin": null,
            "display": null,
            "left": null
          },
          "model_module_version": "1.2.0"
        },
        "8fb8c34139724bc885cb68f8346377a4": {
          "model_module": "@jupyter-widgets/controls",
          "model_name": "DescriptionStyleModel",
          "state": {
            "_view_name": "StyleView",
            "_model_name": "DescriptionStyleModel",
            "description_width": "",
            "_view_module": "@jupyter-widgets/base",
            "_model_module_version": "1.5.0",
            "_view_count": null,
            "_view_module_version": "1.2.0",
            "_model_module": "@jupyter-widgets/controls"
          },
          "model_module_version": "1.5.0"
        },
        "68668f37fbc94fdcbace67c28c531d77": {
          "model_module": "@jupyter-widgets/base",
          "model_name": "LayoutModel",
          "state": {
            "_view_name": "LayoutView",
            "grid_template_rows": null,
            "right": null,
            "justify_content": null,
            "_view_module": "@jupyter-widgets/base",
            "overflow": null,
            "_model_module_version": "1.2.0",
            "_view_count": null,
            "flex_flow": null,
            "width": null,
            "min_width": null,
            "border": null,
            "align_items": null,
            "bottom": null,
            "_model_module": "@jupyter-widgets/base",
            "top": null,
            "grid_column": null,
            "overflow_y": null,
            "overflow_x": null,
            "grid_auto_flow": null,
            "grid_area": null,
            "grid_template_columns": null,
            "flex": null,
            "_model_name": "LayoutModel",
            "justify_items": null,
            "grid_row": null,
            "max_height": null,
            "align_content": null,
            "visibility": null,
            "align_self": null,
            "height": null,
            "min_height": null,
            "padding": null,
            "grid_auto_rows": null,
            "grid_gap": null,
            "max_width": null,
            "order": null,
            "_view_module_version": "1.2.0",
            "grid_template_areas": null,
            "object_position": null,
            "object_fit": null,
            "grid_auto_columns": null,
            "margin": null,
            "display": null,
            "left": null
          },
          "model_module_version": "1.2.0"
        }
      }
    }
  },
  "cells": [
    {
      "cell_type": "markdown",
      "metadata": {
        "id": "view-in-github",
        "colab_type": "text"
      },
      "source": [
        "<a href=\"https://colab.research.google.com/github/mmadhira10/CSE216ProgAbstractionProjects/blob/main/Final_Project.ipynb\" target=\"_parent\"><img src=\"https://colab.research.google.com/assets/colab-badge.svg\" alt=\"Open In Colab\"/></a>"
      ]
    },
    {
      "cell_type": "markdown",
      "metadata": {
        "id": "klW5faeGCjZw"
      },
      "source": [
        "# Preprocessing"
      ]
    },
    {
      "cell_type": "code",
      "metadata": {
        "id": "hOPh2TlgZNy3"
      },
      "source": [
        "\n",
        "\n",
        "import cv2\n",
        "import numpy as np\n",
        "import matplotlib.pyplot as plt\n",
        "import glob\n",
        "import random \n",
        "import time\n",
        " \n",
        "import torch\n",
        "import torchvision\n",
        "import torchvision.transforms as transforms\n",
        " \n",
        "from torch.autograd import Variable\n",
        "import torch.nn as nn\n",
        "import torch.nn.functional as F\n",
        "\n",
        "import timeit"
      ],
      "execution_count": null,
      "outputs": []
    },
    {
      "cell_type": "code",
      "metadata": {
        "id": "L7T72O-1ks-a",
        "colab": {
          "base_uri": "https://localhost:8080/"
        },
        "outputId": "3f175b62-f3cf-40cd-a436-bf78b7bbf2d2"
      },
      "source": [
        "from google.colab import drive\n",
        "drive.mount('/content/gdrive')"
      ],
      "execution_count": null,
      "outputs": [
        {
          "output_type": "stream",
          "text": [
            "Mounted at /content/gdrive\n"
          ],
          "name": "stdout"
        }
      ]
    },
    {
      "cell_type": "markdown",
      "metadata": {
        "id": "uRcQKI8g9Aav"
      },
      "source": [
        "Ishan's Path: \"/content/gdrive/.shortcut-targets-by-id/1dO9M2V5QqmhdjySPgoSNJEyca7qh3Mez/SPP Final Project\"\n",
        "\n",
        "Mihir's Path: \"/content/gdrive/.shortcut-targets-by-id/1dO9M2V5QqmhdjySPgoSNJEyca7qh3Mez/SPP Final Project\"\n",
        "\n",
        "Ben's Path: \"/content/gdrive/.shortcut-targets-by-id/1dO9M2V5QqmhdjySPgoSNJEyca7qh3Mez/SPP Final Project\""
      ]
    },
    {
      "cell_type": "code",
      "metadata": {
        "id": "xIT3WIuykrg0"
      },
      "source": [
        "import os\n",
        "os.chdir(\"/content/gdrive/.shortcut-targets-by-id/1dO9M2V5QqmhdjySPgoSNJEyca7qh3Mez/SPP Final Project\")"
      ],
      "execution_count": null,
      "outputs": []
    },
    {
      "cell_type": "code",
      "metadata": {
        "colab": {
          "base_uri": "https://localhost:8080/",
          "height": 234,
          "referenced_widgets": [
            "18b6acd521054a3f95d89d3bb86728bd",
            "0666e3cfc33b44b6beb040a4748daaef",
            "805604e3282c4e89aeefa9dd0005f32f",
            "8e437966c9a64d1ab4d69f40857c1731",
            "81bd822f86b047cb9b56a41ce23cbca4",
            "0665b96aeb874e04b9ff97d704c2d645",
            "7c0b8ec25cf64f408995f4c0a12b5fe3",
            "2e6554350c7046e7a46f2fe2f9c563a5",
            "9ea6ff1fb741435abb22d371a0007189",
            "d98e2590fd474c18a36f9363728de6ef",
            "5669ea7c08a14917bdf25ae424edecfc",
            "7d913e003e55472e9082436b068bd30f",
            "fc68867823814a2ab8a228135e3c132e",
            "37e92a7d12b44b6bae4df904c6c4f276",
            "8fb8c34139724bc885cb68f8346377a4",
            "68668f37fbc94fdcbace67c28c531d77"
          ]
        },
        "id": "jwz3OcMmxXH9",
        "outputId": "df5f7296-f35c-43cd-e5f3-37b915e8ac90"
      },
      "source": [
        "transform_CIFAR = transforms.Compose([\n",
        "    transforms.Grayscale(num_output_channels=3),                                  \n",
        "    transforms.ToTensor(),\n",
        "    transforms.Normalize(mean=[0.507, 0.487, 0.441], std=[0.267, 0.256, 0.276])\n",
        "])\n",
        "\n",
        "transform_train_CNN = transforms.Compose([\n",
        "    transforms.Resize((64,64)),\n",
        "    transforms.Grayscale(num_output_channels=3),\n",
        "    transforms.ToTensor(),\n",
        "    transforms.Normalize([0.485, 0.456, 0.406], [0.229, 0.224, 0.225])\n",
        "])\n",
        "\n",
        "transform_test_CNN = transforms.Compose([\n",
        "    transforms.Resize((64,64)),\n",
        "    transforms.Grayscale(num_output_channels=3),\n",
        "    transforms.ToTensor()\n",
        "])\n",
        "\n",
        "transform_train_SPP = transforms.Compose([\n",
        "    transforms.Grayscale(num_output_channels=3),\n",
        "    transforms.ToTensor(),\n",
        "    transforms.Normalize([0.485, 0.456, 0.406], [0.229, 0.224, 0.225])\n",
        "])\n",
        "\n",
        "transform_test_SPP = transforms.Compose([\n",
        "    transforms.Grayscale(num_output_channels=3),\n",
        "    transforms.ToTensor(),\n",
        "    transforms.Normalize([0.485, 0.456, 0.406], [0.229, 0.224, 0.225])\n",
        "])\n",
        "\n",
        "batch_size = 8\n",
        "\n",
        "trainset = torchvision.datasets.CIFAR10(root='./data', train=True,\n",
        "            download=True, transform=transform_CIFAR)\n",
        "trainset_CNN = torchvision.datasets.Caltech101(root='/Caltech101', \n",
        "            download=True, transform=transform_train_CNN)\n",
        "trainset_SPP = torchvision.datasets.Caltech101(root='/Caltech101', \n",
        "            download=True, transform=transform_train_SPP)\n",
        "\n",
        "trainloader = torch.utils.data.DataLoader(trainset, batch_size=256,\n",
        "            shuffle=True, num_workers=2)\n",
        "trainloader_CNN = torch.utils.data.DataLoader(trainset_CNN, batch_size=batch_size,\n",
        "            shuffle=True, num_workers=2)\n",
        "trainloader_SPP = torch.utils.data.DataLoader(trainset_SPP, batch_size=batch_size,\n",
        "            shuffle=True, num_workers=2)\n",
        "\n",
        "testset = torchvision.datasets.CIFAR10(root='./data', train=False,\n",
        "            download=True, transform=transform_CIFAR)\n",
        "testset_CNN = torchvision.datasets.Caltech101(root='/Caltech101',\n",
        "            download=True, transform=transform_test_CNN)\n",
        "testset_SPP = torchvision.datasets.Caltech101(root='/Caltech101',\n",
        "            download=True, transform=transform_test_SPP)\n",
        "\n",
        "testloader = torch.utils.data.DataLoader(testset, batch_size=256,\n",
        "            shuffle=False, num_workers=2)\n",
        "testloader_CNN = torch.utils.data.DataLoader(testset_CNN, batch_size=batch_size,\n",
        "            shuffle=False, num_workers=2)\n",
        "testloader_SPP = torch.utils.data.DataLoader(testset_SPP, batch_size=batch_size,\n",
        "            shuffle=False, num_workers=2)"
      ],
      "execution_count": null,
      "outputs": [
        {
          "output_type": "stream",
          "text": [
            "Files already downloaded and verified\n"
          ],
          "name": "stdout"
        },
        {
          "output_type": "display_data",
          "data": {
            "application/vnd.jupyter.widget-view+json": {
              "model_id": "18b6acd521054a3f95d89d3bb86728bd",
              "version_minor": 0,
              "version_major": 2
            },
            "text/plain": [
              "HBox(children=(FloatProgress(value=1.0, bar_style='info', max=1.0), HTML(value='')))"
            ]
          },
          "metadata": {
            "tags": []
          }
        },
        {
          "output_type": "stream",
          "text": [
            "\n",
            "Extracting /Caltech101/caltech101/101_ObjectCategories.tar.gz to /Caltech101/caltech101\n"
          ],
          "name": "stdout"
        },
        {
          "output_type": "display_data",
          "data": {
            "application/vnd.jupyter.widget-view+json": {
              "model_id": "9ea6ff1fb741435abb22d371a0007189",
              "version_minor": 0,
              "version_major": 2
            },
            "text/plain": [
              "HBox(children=(FloatProgress(value=1.0, bar_style='info', max=1.0), HTML(value='')))"
            ]
          },
          "metadata": {
            "tags": []
          }
        },
        {
          "output_type": "stream",
          "text": [
            "\n",
            "Extracting /Caltech101/caltech101/101_Annotations.tar to /Caltech101/caltech101\n",
            "Files already downloaded and verified\n",
            "Files already downloaded and verified\n",
            "Files already downloaded and verified\n",
            "Files already downloaded and verified\n"
          ],
          "name": "stdout"
        }
      ]
    },
    {
      "cell_type": "markdown",
      "metadata": {
        "id": "eYXLYdnGigjz"
      },
      "source": [
        "Print some sample images, labels"
      ]
    },
    {
      "cell_type": "code",
      "metadata": {
        "colab": {
          "base_uri": "https://localhost:8080/",
          "height": 129
        },
        "id": "tEgjQ0C5bORo",
        "outputId": "3a5bb8af-25e5-41e0-a41c-d5139e51573f"
      },
      "source": [
        "import matplotlib.pyplot as plt\n",
        "import numpy as np\n",
        "\n",
        "def imshow(img):\n",
        "    img = img / 2 + 0.5\n",
        "    npimg = img.numpy()\n",
        "    plt.imshow(np.transpose(npimg, (1, 2, 0)))\n",
        "    plt.show()\n",
        "\n",
        "\n",
        "dataiter = iter(trainloader_CNN)\n",
        "images, labels = dataiter.next()\n",
        "\n",
        "imshow(torchvision.utils.make_grid(images))\n",
        "\n",
        "print(labels)"
      ],
      "execution_count": null,
      "outputs": [
        {
          "output_type": "stream",
          "text": [
            "Clipping input data to the valid range for imshow with RGB data ([0..1] for floats or [0..255] for integers).\n"
          ],
          "name": "stderr"
        },
        {
          "output_type": "display_data",
          "data": {
            "image/png": "[encoded data removed]",
            "text/plain": [
              "<Figure size 432x288 with 1 Axes>"
            ]
          },
          "metadata": {
            "tags": [],
            "needs_background": "light"
          }
        },
        {
          "output_type": "stream",
          "text": [
            "tensor([ 3,  0,  5,  1, 30, 54,  1, 57])\n"
          ],
          "name": "stdout"
        }
      ]
    },
    {
      "cell_type": "markdown",
      "metadata": {
        "id": "R6ae4KIxJTMF"
      },
      "source": [
        "# **Regular CNN Model Trained on CalTech101**\n",
        "\n",
        "This model will be trained on a dataset that we transformed to make sizes consistent to make it easier for the original CNN model to train and classify images (as a limitation of a vanilla CNN implementation). We will train and test on both the datasets of CIFAR-100 and Caltech101 to later compare with our SPP Network\n"
      ]
    },
    {
      "cell_type": "markdown",
      "metadata": {
        "id": "aE-cAV5_w4UQ"
      },
      "source": [
        "Here is the CNN using the Caltech dataset to train and test on:\n"
      ]
    },
    {
      "cell_type": "code",
      "metadata": {
        "id": "6y5Pv8nKvNW3"
      },
      "source": [
        "import torch.nn as nn\n",
        "import torch.nn.functional as F\n",
        "\n",
        "class CNN(nn.Module):\n",
        "    def __init__(self):\n",
        "        super(CNN, self).__init__()\n",
        "        self.conv1 = nn.Conv2d(3, 6, 5)\n",
        "        self.pool = nn.MaxPool2d(2, 2)\n",
        "        self.conv2 = nn.Conv2d(6, 16, 5)\n",
        "        self.fc1 = nn.Linear(2704, 200)\n",
        "        self.fc2 = nn.Linear(200, 150)\n",
        "        self.fc3 = nn.Linear(150, 101)\n",
        "\n",
        "    def forward(self, x):\n",
        "        x = self.pool(F.relu(self.conv1(x)))\n",
        "        x = self.pool(F.relu(self.conv2(x)))\n",
        "        x = x.view(-1, 2704)\n",
        "        x = F.relu(self.fc1(x))\n",
        "        x = F.relu(self.fc2(x))\n",
        "        x = self.fc3(x)\n",
        "        return x\n",
        "\n",
        "net = CNN()"
      ],
      "execution_count": null,
      "outputs": []
    },
    {
      "cell_type": "code",
      "metadata": {
        "id": "ZBAXHd_h0qAe"
      },
      "source": [
        "import torch.optim as optim\n",
        "\n",
        "criterion = nn.CrossEntropyLoss()\n",
        "optimizer = optim.Adam(net.parameters())"
      ],
      "execution_count": null,
      "outputs": []
    },
    {
      "cell_type": "code",
      "metadata": {
        "id": "UOeWdNWrxw-v",
        "colab": {
          "base_uri": "https://localhost:8080/"
        },
        "outputId": "989668cc-7177-43f3-9a6f-6f233f2c808c"
      },
      "source": [
        "def set_random_seed(seed):\n",
        "     torch.manual_seed(seed)\n",
        "     torch.cuda.manual_seed_all(seed)\n",
        "     np.random.seed(seed)\n",
        "     random.seed(seed)\n",
        "     torch.backends.cudnn.deterministic = True\n",
        "set_random_seed(0)\n",
        "\n",
        "for epoch in range(5):\n",
        "\n",
        "    print(f\"Epoch #{epoch}:\")\n",
        "    start = timeit.default_timer()\n",
        "\n",
        "    running_loss = 0.0\n",
        "    for i, data in enumerate(trainloader_CNN, 0):\n",
        "        inputs, labels = data\n",
        "\n",
        "        optimizer.zero_grad()\n",
        "\n",
        "        outputs = net(inputs)\n",
        "        loss = criterion(outputs, labels)\n",
        "        loss.backward()\n",
        "        optimizer.step()\n",
        "\n",
        "        running_loss += loss.item()\n",
        "        if i % 50 == 49:\n",
        "            print('[%d, %5d] loss: %.3f' %\n",
        "                  (epoch + 1, i + 1, running_loss / 50))\n",
        "            running_loss = 0.0\n",
        "\n",
        "    end = timeit.default_timer()\n",
        "    print(f\"Time elapsed: {end-start}\")\n",
        "    print()\n",
        "\n",
        "print('Finished Training')"
      ],
      "execution_count": null,
      "outputs": [
        {
          "output_type": "stream",
          "text": [
            "Epoch #0:\n",
            "[1,    50] loss: 4.258\n",
            "[1,   100] loss: 3.853\n",
            "[1,   150] loss: 3.769\n",
            "[1,   200] loss: 3.535\n",
            "[1,   250] loss: 3.434\n",
            "[1,   300] loss: 3.523\n",
            "[1,   350] loss: 3.227\n",
            "[1,   400] loss: 3.501\n",
            "[1,   450] loss: 3.410\n",
            "[1,   500] loss: 3.320\n",
            "[1,   550] loss: 3.079\n",
            "[1,   600] loss: 3.069\n",
            "[1,   650] loss: 3.065\n",
            "[1,   700] loss: 3.080\n",
            "[1,   750] loss: 2.985\n",
            "[1,   800] loss: 2.903\n",
            "[1,   850] loss: 2.947\n",
            "[1,   900] loss: 2.823\n",
            "[1,   950] loss: 2.832\n",
            "[1,  1000] loss: 2.663\n",
            "[1,  1050] loss: 2.636\n",
            "Time elapsed: 37.53860288599981\n",
            "\n",
            "Epoch #1:\n",
            "[2,    50] loss: 2.357\n",
            "[2,   100] loss: 2.404\n",
            "[2,   150] loss: 2.253\n",
            "[2,   200] loss: 2.346\n",
            "[2,   250] loss: 2.394\n",
            "[2,   300] loss: 2.298\n",
            "[2,   350] loss: 2.560\n",
            "[2,   400] loss: 2.224\n",
            "[2,   450] loss: 2.281\n",
            "[2,   500] loss: 2.216\n",
            "[2,   550] loss: 2.271\n",
            "[2,   600] loss: 2.149\n",
            "[2,   650] loss: 2.427\n",
            "[2,   700] loss: 2.394\n",
            "[2,   750] loss: 2.452\n",
            "[2,   800] loss: 2.203\n",
            "[2,   850] loss: 2.214\n",
            "[2,   900] loss: 2.453\n",
            "[2,   950] loss: 2.266\n",
            "[2,  1000] loss: 2.109\n",
            "[2,  1050] loss: 2.410\n",
            "Time elapsed: 40.354436435000025\n",
            "\n",
            "Epoch #2:\n",
            "[3,    50] loss: 1.733\n",
            "[3,   100] loss: 1.687\n",
            "[3,   150] loss: 1.735\n",
            "[3,   200] loss: 1.674\n",
            "[3,   250] loss: 1.759\n",
            "[3,   300] loss: 1.838\n",
            "[3,   350] loss: 1.785\n",
            "[3,   400] loss: 1.653\n",
            "[3,   450] loss: 1.750\n",
            "[3,   500] loss: 1.703\n",
            "[3,   550] loss: 1.640\n",
            "[3,   600] loss: 1.972\n",
            "[3,   650] loss: 1.597\n",
            "[3,   700] loss: 1.723\n",
            "[3,   750] loss: 1.852\n",
            "[3,   800] loss: 1.563\n",
            "[3,   850] loss: 1.952\n",
            "[3,   900] loss: 1.700\n",
            "[3,   950] loss: 1.654\n",
            "[3,  1000] loss: 1.706\n",
            "[3,  1050] loss: 1.816\n",
            "Time elapsed: 42.97353730100008\n",
            "\n",
            "Epoch #3:\n",
            "[4,    50] loss: 1.056\n",
            "[4,   100] loss: 1.195\n",
            "[4,   150] loss: 1.159\n",
            "[4,   200] loss: 1.258\n",
            "[4,   250] loss: 1.188\n",
            "[4,   300] loss: 1.227\n",
            "[4,   350] loss: 1.274\n",
            "[4,   400] loss: 1.273\n",
            "[4,   450] loss: 1.380\n",
            "[4,   500] loss: 1.342\n",
            "[4,   550] loss: 1.404\n",
            "[4,   600] loss: 1.049\n",
            "[4,   650] loss: 1.459\n",
            "[4,   700] loss: 1.323\n",
            "[4,   750] loss: 1.201\n",
            "[4,   800] loss: 1.307\n",
            "[4,   850] loss: 1.377\n",
            "[4,   900] loss: 1.270\n",
            "[4,   950] loss: 1.274\n",
            "[4,  1000] loss: 1.334\n",
            "[4,  1050] loss: 1.403\n",
            "Time elapsed: 38.946495601999914\n",
            "\n",
            "Epoch #4:\n",
            "[5,    50] loss: 0.850\n",
            "[5,   100] loss: 0.825\n",
            "[5,   150] loss: 0.736\n",
            "[5,   200] loss: 0.676\n",
            "[5,   250] loss: 0.886\n",
            "[5,   300] loss: 0.882\n",
            "[5,   350] loss: 0.935\n",
            "[5,   400] loss: 0.741\n",
            "[5,   450] loss: 0.864\n",
            "[5,   500] loss: 0.925\n",
            "[5,   550] loss: 0.830\n",
            "[5,   600] loss: 0.988\n",
            "[5,   650] loss: 0.985\n",
            "[5,   700] loss: 0.888\n",
            "[5,   750] loss: 0.748\n",
            "[5,   800] loss: 1.091\n",
            "[5,   850] loss: 0.978\n",
            "[5,   900] loss: 1.012\n",
            "[5,   950] loss: 0.959\n",
            "[5,  1000] loss: 0.959\n",
            "[5,  1050] loss: 0.908\n",
            "Time elapsed: 39.00117185199997\n",
            "\n",
            "Finished Training\n"
          ],
          "name": "stdout"
        }
      ]
    },
    {
      "cell_type": "code",
      "metadata": {
        "id": "XkjGV9GGyeRe",
        "colab": {
          "base_uri": "https://localhost:8080/"
        },
        "outputId": "ed23de48-2337-4d6e-f7d8-92df2c4849a1"
      },
      "source": [
        "correct = 0\n",
        "total = 0\n",
        "\n",
        "with torch.no_grad():\n",
        "    for data in testloader_CNN:\n",
        "        images, labels = data\n",
        "\n",
        "        outputs = net(images)\n",
        "\n",
        "        _, predicted = torch.max(outputs.data, 1)\n",
        "        total += labels.size(0)\n",
        "        correct += (predicted == labels).sum().item()\n",
        "\n",
        "print('Accuracy of the network on the 10000 test images: %d %%' % (\n",
        "    100 * correct / total))"
      ],
      "execution_count": null,
      "outputs": [
        {
          "output_type": "stream",
          "text": [
            "Accuracy of the network on the 10000 test images: 47 %\n"
          ],
          "name": "stdout"
        }
      ]
    },
    {
      "cell_type": "markdown",
      "metadata": {
        "id": "7yhwKaikxCLx"
      },
      "source": [
        "# **Regular CNN Trained on CIFAR-10**\n",
        "(for comparison purposes)\n"
      ]
    },
    {
      "cell_type": "code",
      "metadata": {
        "id": "pxKch0Zpcrjc"
      },
      "source": [
        "import torch.nn as nn\n",
        "import torch.nn.functional as F\n",
        "\n",
        "\n",
        "class CNN_Cifar(nn.Module):\n",
        "    def __init__(self):\n",
        "        super().__init__()\n",
        "        self.conv1 = nn.Conv2d(3, 6, 5)\n",
        "        self.pool = nn.MaxPool2d(2, 2)\n",
        "        self.conv2 = nn.Conv2d(6, 16, 5)\n",
        "        self.fc1 = nn.Linear(16 * 5 * 5, 200)\n",
        "        self.fc2 = nn.Linear(200, 87)\n",
        "        self.fc3 = nn.Linear(87, 10)\n",
        "\n",
        "    def forward(self, x):\n",
        "        x = self.pool(F.relu(self.conv1(x)))\n",
        "        x = self.pool(F.relu(self.conv2(x)))\n",
        "        x = x.view(-1, 16 * 5 * 5)\n",
        "        x = F.relu(self.fc1(x))\n",
        "        x = F.relu(self.fc2(x))\n",
        "        x = self.fc3(x)\n",
        "        return x\n",
        "\n",
        "\n",
        "net = CNN_Cifar()"
      ],
      "execution_count": null,
      "outputs": []
    },
    {
      "cell_type": "code",
      "metadata": {
        "id": "SujhPfVM_PHa"
      },
      "source": [
        "import torch.optim as optim\n",
        "\n",
        "criterion = nn.CrossEntropyLoss()\n",
        "optimizer = optim.Adam(net.parameters())"
      ],
      "execution_count": null,
      "outputs": []
    },
    {
      "cell_type": "code",
      "metadata": {
        "id": "X49-_NvNcrjg",
        "colab": {
          "base_uri": "https://localhost:8080/"
        },
        "outputId": "2c3f0ef0-1d24-4f22-d5bf-cfde266592db"
      },
      "source": [
        "def set_random_seed(seed):\n",
        "     torch.manual_seed(seed)\n",
        "     torch.cuda.manual_seed_all(seed)\n",
        "     np.random.seed(seed)\n",
        "     random.seed(seed)\n",
        "     torch.backends.cudnn.deterministic = True\n",
        "set_random_seed(0)\n",
        "\n",
        "for epoch in range(5):\n",
        "\n",
        "    print(f\"Epoch #{epoch+1}:\")\n",
        "    start = timeit.default_timer()\n",
        "\n",
        "    running_loss = 0.0\n",
        "    for i, data in enumerate(trainloader, 0):\n",
        "        inputs, labels = data\n",
        "\n",
        "        optimizer.zero_grad()\n",
        "\n",
        "        outputs = net(inputs)\n",
        "        loss = criterion(outputs, labels)\n",
        "        loss.backward()\n",
        "        optimizer.step()\n",
        "\n",
        "        running_loss += loss.item()\n",
        "        if i % 50 == 49:\n",
        "            print('[%d, %5d] loss: %.3f' %\n",
        "                  (epoch + 1, i + 1, running_loss / 50))\n",
        "            running_loss = 0.0\n",
        "\n",
        "    end = timeit.default_timer()\n",
        "    print(f\"Time elapsed: {end-start}\")\n",
        "    print()\n",
        "\n",
        "print('Finished Training')"
      ],
      "execution_count": null,
      "outputs": [
        {
          "output_type": "stream",
          "text": [
            "Epoch #1:\n",
            "[1,    50] loss: 2.047\n",
            "[1,   100] loss: 1.773\n",
            "[1,   150] loss: 1.636\n",
            "Time elapsed: 15.16753300200071\n",
            "\n",
            "Epoch #2:\n",
            "[2,    50] loss: 1.515\n",
            "[2,   100] loss: 1.483\n",
            "[2,   150] loss: 1.481\n",
            "Time elapsed: 15.489709893001418\n",
            "\n",
            "Epoch #3:\n",
            "[3,    50] loss: 1.390\n",
            "[3,   100] loss: 1.341\n",
            "[3,   150] loss: 1.355\n",
            "Time elapsed: 15.521315009998943\n",
            "\n",
            "Epoch #4:\n",
            "[4,    50] loss: 1.275\n",
            "[4,   100] loss: 1.256\n",
            "[4,   150] loss: 1.261\n",
            "Time elapsed: 15.714343112998904\n",
            "\n",
            "Epoch #5:\n",
            "[5,    50] loss: 1.201\n",
            "[5,   100] loss: 1.190\n",
            "[5,   150] loss: 1.177\n",
            "Time elapsed: 15.480834375000995\n",
            "\n",
            "Finished Training\n"
          ],
          "name": "stdout"
        }
      ]
    },
    {
      "cell_type": "code",
      "metadata": {
        "colab": {
          "base_uri": "https://localhost:8080/"
        },
        "id": "NPExZ7gWxrZ9",
        "outputId": "0a135bf2-6616-4d7b-9226-4ecd8595ad85"
      },
      "source": [
        "correct = 0\n",
        "total = 0\n",
        "\n",
        "with torch.no_grad():\n",
        "    for data in testloader:\n",
        "        images, labels = data\n",
        " \n",
        "        outputs = net(images)\n",
        "\n",
        "        _, predicted = torch.max(outputs.data, 1)\n",
        "        total += labels.size(0)\n",
        "        correct += (predicted == labels).sum().item()\n",
        "\n",
        "print('Accuracy of the network on the 10000 test images: %d %%' % (\n",
        "    100 * correct / total))"
      ],
      "execution_count": null,
      "outputs": [
        {
          "output_type": "stream",
          "text": [
            "Accuracy of the network on the 10000 test images: 57 %\n"
          ],
          "name": "stdout"
        }
      ]
    },
    {
      "cell_type": "markdown",
      "metadata": {
        "id": "DIhYQkomuEaU"
      },
      "source": [
        "# SPP-Incorporated Model Trained on CalTech101\n",
        "\n",
        "This is our primary implementation that we will use to demonstrate the marked improvement in image classification when different-sized images are involved. We train and test our network on the CalTech101 dataset, and show the improved difference in comparison to the regular CNN."
      ]
    },
    {
      "cell_type": "code",
      "metadata": {
        "colab": {
          "base_uri": "https://localhost:8080/",
          "height": 303
        },
        "id": "-KW-zOkm8XV8",
        "outputId": "78c5626b-b97a-4efd-c41c-ce2ee7cdfa37"
      },
      "source": [
        "import matplotlib.pyplot as plt\n",
        "import numpy as np\n",
        "\n",
        "def imshow(img):\n",
        "    img = img / 2 + 0.5\n",
        "    npimg = img.numpy()\n",
        "    plt.imshow(np.transpose(npimg, (1, 2, 0)))\n",
        "    plt.show()\n",
        "\n",
        "images = [trainset_SPP.__getitem__(i)[0] for i in range(1)]\n",
        "labels = [trainset_SPP.__getitem__(i)[1] for i in range(1)]\n",
        "\n",
        "imshow(torchvision.utils.make_grid(images))\n",
        "\n",
        "print(labels)"
      ],
      "execution_count": null,
      "outputs": [
        {
          "output_type": "stream",
          "text": [
            "Clipping input data to the valid range for imshow with RGB data ([0..1] for floats or [0..255] for integers).\n"
          ],
          "name": "stderr"
        },
        {
          "output_type": "display_data",
          "data": {
            "image/png": "[encoded data removed]",
            "text/plain": [
              "<Figure size 432x288 with 1 Axes>"
            ]
          },
          "metadata": {
            "tags": [],
            "needs_background": "light"
          }
        },
        {
          "output_type": "stream",
          "text": [
            "[0]\n"
          ],
          "name": "stdout"
        }
      ]
    },
    {
      "cell_type": "code",
      "metadata": {
        "id": "86VTC4JQuHMh"
      },
      "source": [
        "def spp_layer(self, previous_conv, num_sample, previous_conv_size, out_pool_size):\n",
        "\n",
        "    for i in range(len(out_pool_size)):\n",
        "        # get dims of spatial bins\n",
        "        h_wid = int(np.ceil(previous_conv_size[0] / out_pool_size[i]))\n",
        "        w_wid = int(np.ceil(previous_conv_size[1] / out_pool_size[i]))\n",
        "\n",
        "        # if integer rounding from above leads to some cutoff edges, pad them\n",
        "        h_pad = int(np.ceil( (h_wid*out_pool_size[i] - previous_conv_size[0] + 1)/2 ))\n",
        "        w_pad = int(np.ceil( (w_wid*out_pool_size[i] - previous_conv_size[1] + 1)/2 ))\n",
        "        # note: if the pad is too large, the bin will be blocked out; error will arise\n",
        "\n",
        "        maxpool = nn.MaxPool2d((h_wid, w_wid), stride=(h_wid, w_wid), padding=(h_pad, w_pad))\n",
        "\n",
        "        # get features from spatial bins\n",
        "        x = maxpool(previous_conv)\n",
        "        if(i == 0): # first pooling level\n",
        "            spp = x.view(num_sample,-1)\n",
        "        else: # subsequent pooling levels\n",
        "            spp = torch.cat((spp,x.view(num_sample,-1)), 1)\n",
        "\n",
        "    return spp"
      ],
      "execution_count": null,
      "outputs": []
    },
    {
      "cell_type": "code",
      "metadata": {
        "id": "qKvmOdrCuMHY"
      },
      "source": [
        "import torch.nn as nn\n",
        "import torch.nn.functional as F\n",
        "\n",
        "class SPP_CNN(nn.Module):\n",
        "    def __init__(self):\n",
        "        super(SPP_CNN, self).__init__()\n",
        "        self.conv1 = nn.Conv2d(3, 6, 5)\n",
        "        self.pool = nn.MaxPool2d(2, 2)\n",
        "        self.conv2 = nn.Conv2d(6, 16, 5)\n",
        "        self.fc1 = nn.Linear(336, 250)\n",
        "        self.fc2 = nn.Linear(250, 200)\n",
        "        self.fc3 = nn.Linear(200, 101)\n",
        "\n",
        "    def forward(self, x):\n",
        "        x = self.pool(F.relu(self.conv1(x)))\n",
        "        x = self.conv2(x)\n",
        "\n",
        "        x = spp_layer(self, previous_conv=x, num_sample=int(x.size(0)), \\\n",
        "            previous_conv_size=[int(x.size(2)),int(x.size(3))], out_pool_size=[4,2,1])\n",
        "        \n",
        "        x = F.relu(self.fc1(x))\n",
        "        x = F.relu(self.fc2(x))\n",
        "        x = self.fc3(x)\n",
        "        return x\n",
        "\n",
        "spp_net = SPP_CNN().cuda()"
      ],
      "execution_count": null,
      "outputs": []
    },
    {
      "cell_type": "code",
      "metadata": {
        "id": "dthsrmKBvwBQ"
      },
      "source": [
        "import torch.optim as optim\n",
        "\n",
        "criterion = nn.CrossEntropyLoss()\n",
        "optimizer = optim.Adam(spp_net.parameters())"
      ],
      "execution_count": null,
      "outputs": []
    },
    {
      "cell_type": "code",
      "metadata": {
        "colab": {
          "base_uri": "https://localhost:8080/"
        },
        "id": "s1ZFJMehvwBR",
        "outputId": "7efd36bc-36cc-45a9-a37b-3dbfb870f419"
      },
      "source": [
        "def set_random_seed(seed):\n",
        "     torch.manual_seed(seed)\n",
        "     torch.cuda.manual_seed_all(seed)\n",
        "     np.random.seed(seed)\n",
        "     random.seed(seed)\n",
        "     torch.backends.cudnn.deterministic = True\n",
        "set_random_seed(0)\n",
        "\n",
        "for epoch in range(5):\n",
        "\n",
        "    print(f\"Epoch #{epoch}:\")\n",
        "    start = timeit.default_timer()\n",
        "\n",
        "    running_loss = 0.0\n",
        "\n",
        "    num_elems = trainset_SPP.__len__()\n",
        "    rand_indexes = np.random.permutation(range(num_elems))\n",
        "\n",
        "    for i, elem_index in enumerate(rand_indexes):\n",
        "        inputs = trainset_SPP.__getitem__(elem_index)[0]\n",
        "        labels = trainset_SPP.__getitem__(elem_index)[1]\n",
        "\n",
        "        inputs = torch.unsqueeze(inputs, 0).cuda()\n",
        "        labels = torch.Tensor([labels]).long().cuda()\n",
        "\n",
        "        optimizer.zero_grad()\n",
        "\n",
        "        outputs = spp_net(inputs)\n",
        "        loss = criterion(outputs, labels)\n",
        "        loss.backward()\n",
        "        optimizer.step()\n",
        "\n",
        "        running_loss += loss.item()\n",
        "\n",
        "        if i % 200 == 199:\n",
        "            print('[%d, %5d] loss: %.3f' %\n",
        "                  # (epoch + 1, i + 1, running_loss / 50))\n",
        "                  (epoch + 1, i + 1, running_loss / 200))\n",
        "            running_loss = 0.0\n",
        "\n",
        "    end = timeit.default_timer()\n",
        "    print(f\"Time elapsed: {end-start}\")\n",
        "    print()\n",
        "\n",
        "print('Finished Training')"
      ],
      "execution_count": null,
      "outputs": [
        {
          "output_type": "stream",
          "text": [
            "Epoch #0:\n",
            "[1,   200] loss: 4.471\n",
            "[1,   400] loss: 4.231\n",
            "[1,   600] loss: 4.329\n",
            "[1,   800] loss: 4.141\n",
            "[1,  1000] loss: 3.909\n",
            "[1,  1200] loss: 3.954\n",
            "[1,  1400] loss: 4.247\n",
            "[1,  1600] loss: 3.817\n",
            "[1,  1800] loss: 4.014\n",
            "[1,  2000] loss: 3.743\n",
            "[1,  2200] loss: 3.705\n",
            "[1,  2400] loss: 3.434\n",
            "[1,  2600] loss: 3.688\n",
            "[1,  2800] loss: 3.644\n",
            "[1,  3000] loss: 3.730\n",
            "[1,  3200] loss: 3.429\n",
            "[1,  3400] loss: 3.396\n",
            "[1,  3600] loss: 3.226\n",
            "[1,  3800] loss: 3.330\n",
            "[1,  4000] loss: 3.232\n",
            "[1,  4200] loss: 3.402\n",
            "[1,  4400] loss: 3.195\n",
            "[1,  4600] loss: 3.231\n",
            "[1,  4800] loss: 2.954\n",
            "[1,  5000] loss: 3.612\n",
            "[1,  5200] loss: 3.209\n",
            "[1,  5400] loss: 3.135\n",
            "[1,  5600] loss: 3.200\n",
            "[1,  5800] loss: 3.257\n",
            "[1,  6000] loss: 3.111\n",
            "[1,  6200] loss: 3.284\n",
            "[1,  6400] loss: 2.709\n",
            "[1,  6600] loss: 2.811\n",
            "[1,  6800] loss: 2.868\n",
            "[1,  7000] loss: 2.725\n",
            "[1,  7200] loss: 3.056\n",
            "[1,  7400] loss: 3.160\n",
            "[1,  7600] loss: 2.959\n",
            "[1,  7800] loss: 2.939\n",
            "[1,  8000] loss: 2.748\n",
            "[1,  8200] loss: 2.884\n",
            "[1,  8400] loss: 3.102\n",
            "[1,  8600] loss: 2.780\n",
            "Time elapsed: 100.9851800409997\n",
            "\n",
            "Epoch #1:\n",
            "[2,   200] loss: 2.390\n",
            "[2,   400] loss: 2.829\n",
            "[2,   600] loss: 2.794\n",
            "[2,   800] loss: 2.663\n",
            "[2,  1000] loss: 2.548\n",
            "[2,  1200] loss: 2.622\n",
            "[2,  1400] loss: 2.675\n",
            "[2,  1600] loss: 2.525\n",
            "[2,  1800] loss: 2.937\n",
            "[2,  2000] loss: 2.723\n",
            "[2,  2200] loss: 2.541\n",
            "[2,  2400] loss: 2.597\n",
            "[2,  2600] loss: 2.703\n",
            "[2,  2800] loss: 2.997\n",
            "[2,  3000] loss: 2.569\n",
            "[2,  3200] loss: 2.662\n",
            "[2,  3400] loss: 2.512\n",
            "[2,  3600] loss: 2.567\n",
            "[2,  3800] loss: 2.779\n",
            "[2,  4000] loss: 2.543\n",
            "[2,  4200] loss: 2.596\n",
            "[2,  4400] loss: 2.331\n",
            "[2,  4600] loss: 2.842\n",
            "[2,  4800] loss: 2.451\n",
            "[2,  5000] loss: 2.723\n",
            "[2,  5200] loss: 2.177\n",
            "[2,  5400] loss: 3.123\n",
            "[2,  5600] loss: 2.564\n",
            "[2,  5800] loss: 2.758\n",
            "[2,  6000] loss: 2.133\n",
            "[2,  6200] loss: 2.187\n",
            "[2,  6400] loss: 2.396\n",
            "[2,  6600] loss: 2.291\n",
            "[2,  6800] loss: 2.756\n",
            "[2,  7000] loss: 2.473\n",
            "[2,  7200] loss: 2.170\n",
            "[2,  7400] loss: 2.428\n",
            "[2,  7600] loss: 2.179\n",
            "[2,  7800] loss: 2.416\n",
            "[2,  8000] loss: 2.267\n",
            "[2,  8200] loss: 3.008\n",
            "[2,  8400] loss: 2.442\n",
            "[2,  8600] loss: 2.497\n",
            "Time elapsed: 101.25011399999994\n",
            "\n",
            "Epoch #2:\n",
            "[3,   200] loss: 2.443\n",
            "[3,   400] loss: 2.204\n",
            "[3,   600] loss: 2.265\n",
            "[3,   800] loss: 2.217\n",
            "[3,  1000] loss: 2.348\n",
            "[3,  1200] loss: 2.142\n",
            "[3,  1400] loss: 2.152\n",
            "[3,  1600] loss: 2.248\n",
            "[3,  1800] loss: 2.148\n",
            "[3,  2000] loss: 2.220\n",
            "[3,  2200] loss: 2.184\n",
            "[3,  2400] loss: 2.194\n",
            "[3,  2600] loss: 2.150\n",
            "[3,  2800] loss: 2.084\n",
            "[3,  3000] loss: 2.403\n",
            "[3,  3200] loss: 2.220\n",
            "[3,  3400] loss: 2.261\n",
            "[3,  3600] loss: 2.184\n",
            "[3,  3800] loss: 2.282\n",
            "[3,  4000] loss: 2.362\n",
            "[3,  4200] loss: 2.175\n",
            "[3,  4400] loss: 2.236\n",
            "[3,  4600] loss: 2.220\n",
            "[3,  4800] loss: 2.082\n",
            "[3,  5000] loss: 2.440\n",
            "[3,  5200] loss: 2.123\n",
            "[3,  5400] loss: 2.371\n",
            "[3,  5600] loss: 1.928\n",
            "[3,  5800] loss: 2.106\n",
            "[3,  6000] loss: 2.319\n",
            "[3,  6200] loss: 2.427\n",
            "[3,  6400] loss: 2.379\n",
            "[3,  6600] loss: 2.672\n",
            "[3,  6800] loss: 2.230\n",
            "[3,  7000] loss: 2.011\n",
            "[3,  7200] loss: 2.166\n",
            "[3,  7400] loss: 2.557\n",
            "[3,  7600] loss: 2.230\n",
            "[3,  7800] loss: 2.207\n",
            "[3,  8000] loss: 2.623\n",
            "[3,  8200] loss: 2.280\n",
            "[3,  8400] loss: 2.254\n",
            "[3,  8600] loss: 2.520\n",
            "Time elapsed: 101.13085000000001\n",
            "\n",
            "Epoch #3:\n",
            "[4,   200] loss: 1.824\n",
            "[4,   400] loss: 2.442\n",
            "[4,   600] loss: 1.914\n",
            "[4,   800] loss: 2.005\n",
            "[4,  1000] loss: 2.055\n",
            "[4,  1200] loss: 2.004\n",
            "[4,  1400] loss: 1.976\n",
            "[4,  1600] loss: 2.415\n",
            "[4,  1800] loss: 1.892\n",
            "[4,  2000] loss: 2.137\n",
            "[4,  2200] loss: 1.969\n",
            "[4,  2400] loss: 2.012\n",
            "[4,  2600] loss: 2.037\n",
            "[4,  2800] loss: 2.281\n",
            "[4,  3000] loss: 1.786\n",
            "[4,  3200] loss: 2.238\n",
            "[4,  3400] loss: 2.035\n",
            "[4,  3600] loss: 2.013\n",
            "[4,  3800] loss: 2.038\n",
            "[4,  4000] loss: 1.931\n",
            "[4,  4200] loss: 2.046\n",
            "[4,  4400] loss: 2.657\n",
            "[4,  4600] loss: 2.041\n",
            "[4,  4800] loss: 2.044\n",
            "[4,  5000] loss: 1.604\n",
            "[4,  5200] loss: 2.221\n",
            "[4,  5400] loss: 2.653\n",
            "[4,  5600] loss: 1.852\n",
            "[4,  5800] loss: 2.396\n",
            "[4,  6000] loss: 2.203\n",
            "[4,  6200] loss: 2.167\n",
            "[4,  6400] loss: 2.147\n",
            "[4,  6600] loss: 1.991\n",
            "[4,  6800] loss: 2.158\n",
            "[4,  7000] loss: 2.373\n",
            "[4,  7200] loss: 2.109\n",
            "[4,  7400] loss: 2.164\n",
            "[4,  7600] loss: 2.150\n",
            "[4,  7800] loss: 2.168\n",
            "[4,  8000] loss: 2.274\n",
            "[4,  8200] loss: 2.292\n",
            "[4,  8400] loss: 2.481\n",
            "[4,  8600] loss: 1.953\n",
            "Time elapsed: 101.40492311600019\n",
            "\n",
            "Epoch #4:\n",
            "[5,   200] loss: 1.927\n",
            "[5,   400] loss: 1.864\n",
            "[5,   600] loss: 1.764\n",
            "[5,   800] loss: 1.902\n",
            "[5,  1000] loss: 2.013\n",
            "[5,  1200] loss: 1.585\n",
            "[5,  1400] loss: 1.871\n",
            "[5,  1600] loss: 1.817\n",
            "[5,  1800] loss: 1.890\n",
            "[5,  2000] loss: 1.850\n",
            "[5,  2200] loss: 1.965\n",
            "[5,  2400] loss: 1.705\n",
            "[5,  2600] loss: 1.839\n",
            "[5,  2800] loss: 1.917\n",
            "[5,  3000] loss: 1.702\n",
            "[5,  3200] loss: 2.026\n",
            "[5,  3400] loss: 2.446\n",
            "[5,  3600] loss: 1.779\n",
            "[5,  3800] loss: 1.771\n",
            "[5,  4000] loss: 2.113\n",
            "[5,  4200] loss: 2.793\n",
            "[5,  4400] loss: 2.224\n",
            "[5,  4600] loss: 2.142\n",
            "[5,  4800] loss: 2.051\n",
            "[5,  5000] loss: 2.013\n",
            "[5,  5200] loss: 1.597\n",
            "[5,  5400] loss: 1.964\n",
            "[5,  5600] loss: 1.812\n",
            "[5,  5800] loss: 1.768\n",
            "[5,  6000] loss: 1.818\n",
            "[5,  6200] loss: 1.941\n",
            "[5,  6400] loss: 2.092\n",
            "[5,  6600] loss: 2.159\n",
            "[5,  6800] loss: 1.960\n",
            "[5,  7000] loss: 1.921\n",
            "[5,  7200] loss: 2.044\n",
            "[5,  7400] loss: 1.925\n",
            "[5,  7600] loss: 2.382\n",
            "[5,  7800] loss: 2.209\n",
            "[5,  8000] loss: 2.231\n",
            "[5,  8200] loss: 2.055\n",
            "[5,  8400] loss: 1.855\n",
            "[5,  8600] loss: 2.285\n",
            "Time elapsed: 101.61589184400009\n",
            "\n",
            "Finished Training\n"
          ],
          "name": "stdout"
        }
      ]
    },
    {
      "cell_type": "code",
      "metadata": {
        "colab": {
          "base_uri": "https://localhost:8080/"
        },
        "id": "bN8KQJtMvwBS",
        "outputId": "74bb72af-c565-4ca2-fcf7-a86bc97bb4fb"
      },
      "source": [
        "correct = 0\n",
        "total = 0\n",
        "\n",
        "with torch.no_grad():\n",
        "\n",
        "    for i in range(testset_SPP.__len__()):\n",
        "\n",
        "        images = testset_SPP.__getitem__(i)[0]\n",
        "        labels = testset_SPP.__getitem__(i)[1]\n",
        "\n",
        "        images = torch.unsqueeze(images, 0).cuda()\n",
        "        labels = torch.Tensor([labels]).long().cuda()\n",
        "\n",
        "        outputs = spp_net(images)\n",
        "\n",
        "        _, predicted = torch.max(outputs.data, 1)\n",
        "        total += labels.size(0)\n",
        "        correct += (predicted == labels).sum().item()\n",
        "\n",
        "print('Accuracy of the network on the 10000 test images: %d %%' % (\n",
        "    100 * correct / total))"
      ],
      "execution_count": null,
      "outputs": [
        {
          "output_type": "stream",
          "text": [
            "Accuracy of the network on the 10000 test images: 57 %\n"
          ],
          "name": "stdout"
        }
      ]
    },
    {
      "cell_type": "markdown",
      "metadata": {
        "id": "YJzef5BF5kOz"
      },
      "source": [
        "# SPP-Incorporated Model Trained on CIFAR-10"
      ]
    },
    {
      "cell_type": "code",
      "metadata": {
        "id": "g4OGwoCc54bX"
      },
      "source": [
        "def spp_layer(self,previous_conv, num_sample, previous_conv_size, out_pool_size):\n",
        "\n",
        "    for i in range(len(out_pool_size)):\n",
        "         # get dims of spatial bins\n",
        "        h_wid = int(np.ceil(previous_conv_size[0] / out_pool_size[i]))\n",
        "        w_wid = int(np.ceil(previous_conv_size[1] / out_pool_size[i]))\n",
        "\n",
        "        # if integer rounding from above leads to some cutoff edges, pad them\n",
        "        h_pad = int(np.ceil( (h_wid*out_pool_size[i] - previous_conv_size[0] + 1)/2 ))\n",
        "        w_pad = int(np.ceil( (w_wid*out_pool_size[i] - previous_conv_size[1] + 1)/2 ))\n",
        "        # note: if the pad is too large, the bin will be blocked out; error will arise\n",
        "        ## note: got error since kernel size is 3, padding is 2 --> zeroed padding\n",
        "\n",
        "        maxpool = nn.MaxPool2d((h_wid, w_wid), stride=(h_wid, w_wid), padding=(0, 0))\n",
        "\n",
        "        # get features from spatial bins\n",
        "        x = maxpool(previous_conv)\n",
        "        if(i == 0): # first pooling level\n",
        "            spp = x.view(num_sample,-1)\n",
        "        else: # subsequent pooling levels\n",
        "            spp = torch.cat((spp,x.view(num_sample,-1)), 1)\n",
        "\n",
        "    return spp"
      ],
      "execution_count": null,
      "outputs": []
    },
    {
      "cell_type": "code",
      "metadata": {
        "id": "ZhV1O4Jc7Hvy"
      },
      "source": [
        "class SPP_Net(nn.Module):\n",
        "    def __init__(self):\n",
        "        super().__init__()\n",
        "        self.conv1 = nn.Conv2d(3, 6, 5)\n",
        "        self.pool = nn.MaxPool2d(2, 2)\n",
        "        self.conv2 = nn.Conv2d(6, 16, 5)\n",
        "        self.fc1 = nn.Linear(224, 200)\n",
        "        self.fc2 = nn.Linear(200, 87)\n",
        "        self.fc3 = nn.Linear(87, 10)\n",
        "\n",
        "    def forward(self, x):\n",
        "        x = self.pool(F.relu(self.conv1(x)))\n",
        "        x = self.conv2(x)\n",
        "\n",
        "        x = spp_layer(self, previous_conv=x, num_sample=int(x.size(0)), \\\n",
        "            previous_conv_size=[int(x.size(2)),int(x.size(3))], out_pool_size=[4,2,1])\n",
        "\n",
        "        x = F.relu(self.fc1(x))\n",
        "        x = F.relu(self.fc2(x))\n",
        "        x = self.fc3(x)\n",
        "        return x\n",
        "\n",
        "\n",
        "net = SPP_Net()"
      ],
      "execution_count": null,
      "outputs": []
    },
    {
      "cell_type": "code",
      "metadata": {
        "id": "g56i6fafUxhh"
      },
      "source": [
        "import torch.optim as optim\n",
        "\n",
        "criterion = nn.CrossEntropyLoss()\n",
        "optimizer = optim.Adam(net.parameters())"
      ],
      "execution_count": null,
      "outputs": []
    },
    {
      "cell_type": "code",
      "metadata": {
        "colab": {
          "base_uri": "https://localhost:8080/"
        },
        "id": "VtxQbnnTUyNN",
        "outputId": "d5cf2245-f8bc-4f08-9c80-28f9d456ed71"
      },
      "source": [
        "import timeit\n",
        "\n",
        "for epoch in range(5):\n",
        "\n",
        "    print(f\"epoch #{epoch+1}\")\n",
        "    start = timeit.default_timer()\n",
        "\n",
        "    running_loss = 0.0\n",
        "    for i, data in enumerate(trainloader, 0):\n",
        "\n",
        "        optimizer.zero_grad()\n",
        "\n",
        "        outputs = net(inputs)\n",
        "        loss = criterion(outputs, labels)\n",
        "        loss.backward()\n",
        "        optimizer.step()\n",
        "\n",
        "        running_loss += loss.item()\n",
        "        if i % 50 == 49:\n",
        "            print('[%d, %5d] loss: %.3f' %\n",
        "                  (epoch + 1, i + 1, running_loss / 50))\n",
        "            running_loss = 0.0\n",
        "\n",
        "    end = timeit.default_timer()\n",
        "    print(f\"time elapsed:{end-start}\\n\")\n",
        "\n",
        "print('Finished Training')"
      ],
      "execution_count": null,
      "outputs": [
        {
          "output_type": "stream",
          "text": [
            "epoch #1\n",
            "[1,    50] loss: 2.046\n",
            "[1,   100] loss: 1.762\n",
            "[1,   150] loss: 1.614\n",
            "time elapsed:15.31432294499973\n",
            "\n",
            "epoch #2\n",
            "[2,    50] loss: 1.474\n",
            "[2,   100] loss: 1.450\n",
            "[2,   150] loss: 1.433\n",
            "time elapsed:15.269327306999912\n",
            "\n",
            "epoch #3\n",
            "[3,    50] loss: 1.333\n",
            "[3,   100] loss: 1.304\n",
            "[3,   150] loss: 1.316\n",
            "time elapsed:15.125202473000172\n",
            "\n",
            "epoch #4\n",
            "[4,    50] loss: 1.246\n",
            "[4,   100] loss: 1.243\n",
            "[4,   150] loss: 1.225\n",
            "time elapsed:15.259330041000794\n",
            "\n",
            "epoch #5\n",
            "[5,    50] loss: 1.180\n",
            "[5,   100] loss: 1.177\n",
            "[5,   150] loss: 1.153\n",
            "time elapsed:15.076055632000134\n",
            "\n",
            "Finished Training\n"
          ],
          "name": "stdout"
        }
      ]
    },
    {
      "cell_type": "code",
      "metadata": {
        "colab": {
          "base_uri": "https://localhost:8080/"
        },
        "id": "6hUvKNWOU2Ed",
        "outputId": "856d5a81-a9d0-426b-9b40-d1fc2993e82e"
      },
      "source": [
        "correct = 0\n",
        "total = 0\n",
        "\n",
        "with torch.no_grad():\n",
        "    for data in testloader:\n",
        "        images, labels = data\n",
        "\n",
        "        outputs = net(images)\n",
        "\n",
        "        _, predicted = torch.max(outputs.data, 1)\n",
        "        total += labels.size(0)\n",
        "        correct += (predicted == labels).sum().item()\n",
        "\n",
        "print('Accuracy of the network on the 10000 test images: %d %%' % (\n",
        "    100 * correct / total))\n",
        "\n",
        "### performs on-par with the regular CNN"
      ],
      "execution_count": null,
      "outputs": [
        {
          "output_type": "stream",
          "text": [
            "Accuracy of the network on the 10000 test images: 57 %\n"
          ],
          "name": "stdout"
        }
      ]
    },
    {
      "cell_type": "markdown",
      "metadata": {
        "id": "EibwFqOrt4Cj"
      },
      "source": [
        "# Testing different SPP Configurations\n",
        "Using `out_pool_layer` = [8,4,2,1] to add another level to the spatial pyramidal pooling (previously [4,2,1])\n",
        "\n",
        "Tested on the CIFAR-10 dataset\n",
        "\n"
      ]
    },
    {
      "cell_type": "code",
      "metadata": {
        "id": "sp9nG1ZQBa16"
      },
      "source": [
        "def spp_layer(self,previous_conv, num_sample, previous_conv_size, out_pool_size):\n",
        "    \n",
        "    for i in range(len(out_pool_size)):\n",
        "        # get dims of spatial bins\n",
        "        h_wid = int(np.ceil(previous_conv_size[0] / out_pool_size[i]))\n",
        "        w_wid = int(np.ceil(previous_conv_size[1] / out_pool_size[i]))\n",
        "\n",
        "        # if integer rounding from above leads to some cutoff edges, pad them\n",
        "        h_pad = int(np.ceil( (h_wid*out_pool_size[i] - previous_conv_size[0] + 1)/2 ))\n",
        "        w_pad = int(np.ceil( (w_wid*out_pool_size[i] - previous_conv_size[1] + 1)/2 ))\n",
        "        ## note: got error since kernel size is 3, padding is 2 --> zeroed padding\n",
        "\n",
        "        maxpool = nn.MaxPool2d((h, w), stride=(h, w), padding=(0, 0))\n",
        "\n",
        "        # get features from spatial bins\n",
        "        x = maxpool(previous_conv)\n",
        "        if(i == 0): # first pooling level\n",
        "            spp = x.view(num_sample,-1)\n",
        "        else: # subsequent pooling levels\n",
        "            spp = torch.cat((spp,x.view(num_sample,-1)), 1)\n",
        "\n",
        "    return spp"
      ],
      "execution_count": null,
      "outputs": []
    },
    {
      "cell_type": "code",
      "metadata": {
        "id": "IGzc-pHOBa17"
      },
      "source": [
        "class SPP_Net(nn.Module):\n",
        "    def __init__(self):\n",
        "        super().__init__()\n",
        "        self.conv1 = nn.Conv2d(3, 6, 5)\n",
        "        self.pool = nn.MaxPool2d(2, 2)\n",
        "        self.conv2 = nn.Conv2d(6, 16, 5)\n",
        "        self.fc1 = nn.Linear(624, 200) # for pool levels [8,4,2,1]\n",
        "        self.fc2 = nn.Linear(200, 87) \n",
        "        self.fc3 = nn.Linear(87, 10)\n",
        "\n",
        "    def forward(self, x):\n",
        "        x = self.pool(F.relu(self.conv1(x)))\n",
        "        # x = self.pool(F.relu(self.conv2(x)))\n",
        "        x = self.conv2(x)\n",
        "\n",
        "        x = spp_layer(self, previous_conv=x, num_sample=int(x.size(0)), \\\n",
        "            previous_conv_size=[int(x.size(2)),int(x.size(3))], \\\n",
        "            out_pool_size=[8,4,2,1]) ## note: additional pooling level\n",
        "\n",
        "        x = F.relu(self.fc1(x))\n",
        "        x = F.relu(self.fc2(x))\n",
        "        x = self.fc3(x)\n",
        "        return x\n",
        "\n",
        "\n",
        "net = SPP_Net()"
      ],
      "execution_count": null,
      "outputs": []
    },
    {
      "cell_type": "code",
      "metadata": {
        "id": "WOSaj25NBa18"
      },
      "source": [
        "import torch.optim as optim\n",
        "\n",
        "criterion = nn.CrossEntropyLoss()\n",
        "optimizer = optim.Adam(net.parameters())"
      ],
      "execution_count": null,
      "outputs": []
    },
    {
      "cell_type": "code",
      "metadata": {
        "colab": {
          "base_uri": "https://localhost:8080/"
        },
        "id": "3k8s8435Ba18",
        "outputId": "dbe9d22d-27b7-40d2-a4bd-7b10cac65781"
      },
      "source": [
        "import timeit\n",
        "\n",
        "for epoch in range(5):\n",
        "\n",
        "    print(f\"epoch #{epoch+1}\")\n",
        "    start = timeit.default_timer()\n",
        "\n",
        "    running_loss = 0.0\n",
        "    for i, data in enumerate(trainloader, 0):\n",
        "\n",
        "        inputs, labels = data\n",
        "\n",
        "        optimizer.zero_grad()\n",
        "\n",
        "        outputs = net(inputs)\n",
        "        loss = criterion(outputs, labels)\n",
        "        loss.backward()\n",
        "        optimizer.step()\n",
        "\n",
        "        running_loss += loss.item()\n",
        "        if i % 50 == 49:\n",
        "            print('[%d, %5d] loss: %.3f' %\n",
        "                  (epoch + 1, i + 1, running_loss / 50))\n",
        "            running_loss = 0.0\n",
        "\n",
        "    end = timeit.default_timer()\n",
        "    print(f\"time elapsed:{end-start}\\n\")\n",
        "\n",
        "print('Finished Training')"
      ],
      "execution_count": null,
      "outputs": [
        {
          "output_type": "stream",
          "text": [
            "epoch #1\n",
            "[1,    50] loss: 2.013\n",
            "[1,   100] loss: 1.741\n",
            "[1,   150] loss: 1.584\n",
            "time elapsed:17.242587610000555\n",
            "\n",
            "epoch #2\n",
            "[2,    50] loss: 1.426\n",
            "[2,   100] loss: 1.397\n",
            "[2,   150] loss: 1.362\n",
            "time elapsed:17.102249083998686\n",
            "\n",
            "epoch #3\n",
            "[3,    50] loss: 1.268\n",
            "[3,   100] loss: 1.245\n",
            "[3,   150] loss: 1.249\n",
            "time elapsed:17.129496498999288\n",
            "\n",
            "epoch #4\n",
            "[4,    50] loss: 1.172\n",
            "[4,   100] loss: 1.152\n",
            "[4,   150] loss: 1.171\n",
            "time elapsed:17.160938404000262\n",
            "\n",
            "epoch #5\n",
            "[5,    50] loss: 1.110\n",
            "[5,   100] loss: 1.077\n",
            "[5,   150] loss: 1.101\n",
            "time elapsed:17.178702795999925\n",
            "\n",
            "Finished Training\n"
          ],
          "name": "stdout"
        }
      ]
    },
    {
      "cell_type": "code",
      "metadata": {
        "colab": {
          "base_uri": "https://localhost:8080/"
        },
        "id": "RJoTvRTRNMHk",
        "outputId": "11439a10-a962-4bd6-b625-9ee49d01b4f1"
      },
      "source": [
        "correct = 0\n",
        "total = 0\n",
        "\n",
        "with torch.no_grad():\n",
        "    for data in testloader:\n",
        "        images, labels = data\n",
        "\n",
        "        outputs = net(images)\n",
        "\n",
        "        _, predicted = torch.max(outputs.data, 1)\n",
        "        total += labels.size(0)\n",
        "        correct += (predicted == labels).sum().item()\n",
        "\n",
        "print('Accuracy of the network on the 10000 test images: %d %%' % (\n",
        "    100 * correct / total))\n",
        "\n",
        "### performs on par with regular CNN, and slightly better than SPP_Net with out_pool_size=[4,2,1]"
      ],
      "execution_count": null,
      "outputs": [
        {
          "output_type": "stream",
          "text": [
            "Accuracy of the network on the 10000 test images: 60 %\n"
          ],
          "name": "stdout"
        }
      ]
    },
    {
      "cell_type": "markdown",
      "metadata": {
        "id": "qTzn68BKwT3p"
      },
      "source": [
        "# Conclusion\n",
        "\n",
        "\n",
        "In conclusion, the SPP-incorporated CNN performed more effectively on the Caltech101 dataset compared to on the CIFAR10 dataset. Over the course of 5 epochs, the loss of the SPP CNN was consistently lower than that of the regular CNN, which resulted in a 10% difference in accuracy. This proves that transformations such as cropping or warping pale in comparison to the SPP-layer which gathers data of different dimensions to have a complete understanding of the image. However, such an improvement was not so clear on the CIFAR-10 dataset. From the results, we can say that the SPP CNN performs _at least as well as_ the regular CNN, if not better.\n",
        "\n",
        "\n"
      ]
    }
  ]
}